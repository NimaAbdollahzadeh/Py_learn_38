{
 "cells": [
  {
   "cell_type": "code",
   "execution_count": 1,
   "metadata": {},
   "outputs": [],
   "source": [
    "import pandas as pd\n",
    "import numpy as np\n",
    "import matplotlib.pyplot as plt\n",
    "import seaborn\n"
   ]
  },
  {
   "cell_type": "code",
   "execution_count": null,
   "metadata": {},
   "outputs": [],
   "source": [
    "cities = pd.read_csv(\"G:/PROJECT/38- assignment38/california_cities.csv\")\n",
    "\n",
    "latitude, longitude = cities[\"latd\"], cities[\"longd\"]\n",
    "population, area = cities[\"population_total\"], cities[\"area_total_km2\"]\n",
    "\n",
    "seaborn.set\n",
    "plt.scatter(longitude, latitude, label= None, c= np.log10(population),\n",
    "             cmap= \"viridis\", s= area, linewidth= 0, alpha= 0.5)\n",
    "\n",
    "plt.xlabel (\"longitude\")\n",
    "plt.ylabel (\"latitude\")\n",
    "plt.colorbar(label= \"log10$_{10}$population\")\n",
    "plt.clim(3, 7)\n",
    "\n",
    "for area in [100, 300, 500]:\n",
    "    plt.scatter([], [], c='k', alpha=0.3, s=area, label=str(area) + 'km$^2$')\n",
    "\n",
    "plt.legend(scatterpoints= 1, frameon= False, labelspacing= 1, title= 'City Areas')\n",
    "plt.title(\"Area and Population of California Cities\")\n",
    "plt.show()"
   ]
  }
 ],
 "metadata": {
  "kernelspec": {
   "display_name": "Python 3",
   "language": "python",
   "name": "python3"
  },
  "language_info": {
   "codemirror_mode": {
    "name": "ipython",
    "version": 3
   },
   "file_extension": ".py",
   "mimetype": "text/x-python",
   "name": "python",
   "nbconvert_exporter": "python",
   "pygments_lexer": "ipython3",
   "version": "3.11.4"
  },
  "orig_nbformat": 4
 },
 "nbformat": 4,
 "nbformat_minor": 2
}
