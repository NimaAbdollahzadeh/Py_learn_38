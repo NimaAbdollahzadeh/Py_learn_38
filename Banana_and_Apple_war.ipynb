{
 "cells": [
  {
   "cell_type": "code",
   "execution_count": 1,
   "metadata": {},
   "outputs": [],
   "source": [
    "#importing libraries\n",
    "\n",
    "import matplotlib.pyplot as plt\n",
    "import pandas as pd\n",
    "import numpy as np\n",
    "from scipy import stats"
   ]
  },
  {
   "cell_type": "code",
   "execution_count": 2,
   "metadata": {},
   "outputs": [],
   "source": [
    "# All font sizes are set to 15\n",
    "\n",
    "plt.rcParams['xtick.labelsize'] = 15\n",
    "plt.rcParams['ytick.labelsize'] = 15\n",
    "plt.rcParams['legend.fontsize'] = 15\n",
    "plt.rcParams['axes.labelsize'] = 15\n",
    "plt.rcParams['axes.titlesize'] = 15"
   ]
  },
  {
   "cell_type": "code",
   "execution_count": 3,
   "metadata": {},
   "outputs": [],
   "source": [
    "#Construct data set\n",
    "\n",
    "np.random.seed(121)\n",
    "\n",
    "N = 1000\n",
    "std = 0.6\n",
    "bananas = pd.DataFrame({\n",
    "    'length': np.random.normal(8, std, N),\n",
    "    'width': np.random.normal(4, std, N),\n",
    "    'class': np.zeros(N, dtype='int')}\n",
    ")\n",
    "\n",
    "apples = pd.DataFrame({\n",
    "    'length': np.random.normal(6, std, N),\n",
    "    'width': np.random.normal(6, std, N),\n",
    "    'class': np.ones(N, dtype='int')}\n",
    ")\n",
    "\n",
    "fruits = pd.concat([bananas, apples])"
   ]
  },
  {
   "cell_type": "code",
   "execution_count": null,
   "metadata": {},
   "outputs": [],
   "source": [
    "#Data distribution map\n",
    "\n",
    "plt.scatter(x=apples['length'], y=apples['width'], label='apples')\n",
    "plt.scatter(x=bananas['length'], y=bananas['width'], label='bananas')\n",
    "plt.legend()\n",
    "plt.xlabel('Length')\n",
    "plt.ylabel('Width')"
   ]
  },
  {
   "cell_type": "code",
   "execution_count": null,
   "metadata": {},
   "outputs": [],
   "source": [
    "#Bar chart with error bars\n",
    "\n",
    "labels = ['bananas', 'apples', 'bananas', 'apples']\n",
    "x = [1, 1.5, 2.5, 3.0]\n",
    "height = [fruits.loc[fruits['class'] == 0, 'length'].mean(),\n",
    "          fruits.loc[fruits['class'] == 1, 'length'].mean(),\n",
    "          fruits.loc[fruits['class'] == 0, 'width'].mean(),\n",
    "          fruits.loc[fruits['class'] == 1, 'width'].mean()]\n",
    "yerr = [2*fruits.loc[fruits['class'] == 0, 'length'].std(),\n",
    "        2*fruits.loc[fruits['class'] == 1, 'length'].std(),\n",
    "        2*fruits.loc[fruits['class'] == 0, 'width'].std(),\n",
    "        2*fruits.loc[fruits['class'] == 1, 'width'].std()]\n",
    "color = ['tab:blue', 'tab:blue', 'tab:orange', 'tab:orange']\n",
    "\n",
    "plt.bar(x=x,\n",
    "        height=height,\n",
    "        color=color,\n",
    "        width=0.4,\n",
    "        error_kw={'lw': 4},\n",
    "        yerr=yerr)\n",
    "plt.xticks(ticks=x, labels=labels)\n",
    "plt.title('Fruit length VS width')\n",
    "\n",
    "plt.grid()"
   ]
  },
  {
   "cell_type": "code",
   "execution_count": null,
   "metadata": {},
   "outputs": [],
   "source": [
    "#Box diagram\n",
    "\n",
    "fea = 'length'\n",
    "plt.boxplot(x=fea, data=fruits.loc[fruits['class'] == 0],\n",
    "            patch_artist=True, boxprops={'facecolor': 'tab:blue'},\n",
    "            positions=[0], labels=['bananas'], widths=[0.15])\n",
    "plt.boxplot(x=fea, data=fruits.loc[fruits['class'] == 1],\n",
    "            patch_artist=True, boxprops={'facecolor': 'tab:orange'},\n",
    "            positions=[0.3], labels=['apples'], widths=[0.15])\n",
    "plt.ylabel('length')\n",
    "plt.xlim(-0.2, 0.5)\n",
    "plt.title('Length Distribution ')"
   ]
  },
  {
   "cell_type": "code",
   "execution_count": null,
   "metadata": {},
   "outputs": [],
   "source": [
    "#histogram\n",
    "\n",
    "fea = 'width'\n",
    "\n",
    "plt.hist(x=fea, data=fruits.loc[fruits['class'] == 0],\n",
    "         bins=30, density=True, color='tab:blue', label='bananas',)\n",
    "plt.hist(x=fea, data=fruits.loc[fruits['class'] == 1],\n",
    "         bins=30, density=True, color='tab:orange', label='apples', alpha=0.8)\n",
    "plt.legend(frameon=False)\n",
    "plt.title('Width Distribution ')\n",
    "plt.xlabel('Width')"
   ]
  },
  {
   "cell_type": "code",
   "execution_count": null,
   "metadata": {},
   "outputs": [],
   "source": [
    "#Joint distribution histogram\n",
    "\n",
    "fig, (ax, cax) = plt.subplots(1, 2, gridspec_kw={'width_ratios': [0.9, 0.1]})\n",
    "_, _, _, mappable = ax.hist2d(\n",
    "    x='length', y='width', bins=50, data=fruits, cmap=plt.cm.hot)\n",
    "ax.set_xlabel('length')\n",
    "ax.set_ylabel('width')\n",
    "\n",
    "plt.colorbar(mappable=mappable, cax=cax, ax=ax)\n"
   ]
  },
  {
   "cell_type": "code",
   "execution_count": null,
   "metadata": {},
   "outputs": [],
   "source": [
    "#Feature generation and selection\n",
    "\n",
    "fea = 'L/W'\n",
    "fruits[fea] = fruits['length']/fruits['width']\n",
    "\n",
    "plt.hist(x=fea, data=fruits.loc[fruits['class'] == 0],\n",
    "         bins=30, density=True, color='tab:blue', label='bananas',)\n",
    "plt.hist(x=fea, data=fruits.loc[fruits['class'] == 1],\n",
    "         bins=30, density=True, color='tab:orange', label='apples',)\n",
    "plt.legend()\n",
    "plt.title('L/W Distribution ')\n",
    "plt.xlabel('L/W ratio')"
   ]
  },
  {
   "cell_type": "code",
   "execution_count": null,
   "metadata": {},
   "outputs": [],
   "source": [
    "#the measure of area\n",
    "\n",
    "fea = 'area'\n",
    "fruits[fea] = fruits['length']*fruits['width']\n",
    "plt.hist(x=fea, data=fruits.loc[fruits['class'] == 0], histtype='step', lw=4,\n",
    "         bins=30, density=True, color='tab:blue', label='bananas')\n",
    "plt.hist(x=fea, data=fruits.loc[fruits['class'] == 1], histtype='step', lw=4,\n",
    "         bins=30, density=True, color='tab:orange', label='apples')\n",
    "plt.title('Area Distribution ')\n",
    "plt.legend()\n",
    "plt.xlabel('Area')\n"
   ]
  },
  {
   "cell_type": "code",
   "execution_count": null,
   "metadata": {},
   "outputs": [],
   "source": [
    "#Perimeter\n",
    "\n",
    "fea = 'circumference'\n",
    "fruits[fea] = 2*(fruits['length']+fruits['width'])\n",
    "plt.hist(x=fea, data=fruits.loc[fruits['class'] == 0], histtype='step', lw=4,\n",
    "         bins=30, density=True, color='tab:blue', label='bananas')\n",
    "plt.hist(x=fea, data=fruits.loc[fruits['class'] == 1], histtype='step', lw=4,\n",
    "         bins=30, density=True, color='tab:orange', label='apples')\n",
    "plt.title('circumference Distribution ')\n",
    "plt.legend()\n",
    "plt.xlabel('Circumference')"
   ]
  },
  {
   "cell_type": "code",
   "execution_count": 18,
   "metadata": {},
   "outputs": [
    {
     "data": {
      "text/plain": [
       "Ttest_indResult(statistic=82.43842566108299, pvalue=0.0)"
      ]
     },
     "execution_count": 18,
     "metadata": {},
     "output_type": "execute_result"
    }
   ],
   "source": [
    "fea = 'L/W'\n",
    "fruits[fea] = fruits['length']/fruits['width']\n",
    "stats.ttest_ind(fruits.loc[fruits['class'] == 0, fea],\n",
    "                fruits.loc[fruits['class'] == 1, fea])"
   ]
  },
  {
   "cell_type": "code",
   "execution_count": 19,
   "metadata": {},
   "outputs": [
    {
     "data": {
      "text/plain": [
       "Ttest_indResult(statistic=-18.339795548775278, pvalue=1.4737736564093967e-69)"
      ]
     },
     "execution_count": 19,
     "metadata": {},
     "output_type": "execute_result"
    }
   ],
   "source": [
    "fea = 'area'\n",
    "fruits[fea] = fruits['length']*fruits['width']\n",
    "stats.ttest_ind(fruits.loc[fruits['class'] == 0, fea],\n",
    "                fruits.loc[fruits['class'] == 1, fea])"
   ]
  },
  {
   "cell_type": "code",
   "execution_count": 20,
   "metadata": {},
   "outputs": [
    {
     "data": {
      "text/plain": [
       "Ttest_indResult(statistic=-1.3170522756675043, pvalue=0.1879721312693096)"
      ]
     },
     "execution_count": 20,
     "metadata": {},
     "output_type": "execute_result"
    }
   ],
   "source": [
    "fea = 'circumference'\n",
    "fruits[fea] = 2*(fruits['length']+fruits['width'])\n",
    "stats.ttest_ind(fruits.loc[fruits['class'] == 0, fea],\n",
    "                fruits.loc[fruits['class'] == 1, fea])"
   ]
  }
 ],
 "metadata": {
  "kernelspec": {
   "display_name": "Python 3",
   "language": "python",
   "name": "python3"
  },
  "language_info": {
   "codemirror_mode": {
    "name": "ipython",
    "version": 3
   },
   "file_extension": ".py",
   "mimetype": "text/x-python",
   "name": "python",
   "nbconvert_exporter": "python",
   "pygments_lexer": "ipython3",
   "version": "3.11.4"
  },
  "orig_nbformat": 4
 },
 "nbformat": 4,
 "nbformat_minor": 2
}
